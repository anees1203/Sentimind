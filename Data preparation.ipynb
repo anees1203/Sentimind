{
 "cells": [
  {
   "cell_type": "markdown",
   "id": "5b77e06c",
   "metadata": {},
   "source": [
    "Data preparation using Natural Language Toolkit(NLTK)"
   ]
  },
  {
   "cell_type": "code",
   "execution_count": 5,
   "id": "482185cc",
   "metadata": {
    "scrolled": false
   },
   "outputs": [
    {
     "name": "stdout",
     "output_type": "stream",
     "text": [
      "/Users/anees/.zshenv:export:1: not valid in this context: Plug-Ins/JavaAppletPlugin.plugin/Contents/Home/bin/java\n",
      "Requirement already satisfied: nltk in /Library/Frameworks/Python.framework/Versions/3.10/lib/python3.10/site-packages (3.8.1)\n",
      "Requirement already satisfied: pandas in /Library/Frameworks/Python.framework/Versions/3.10/lib/python3.10/site-packages (1.5.3)\n",
      "Requirement already satisfied: click in /Library/Frameworks/Python.framework/Versions/3.10/lib/python3.10/site-packages (from nltk) (8.1.3)\n",
      "Requirement already satisfied: joblib in /Library/Frameworks/Python.framework/Versions/3.10/lib/python3.10/site-packages (from nltk) (1.2.0)\n",
      "Requirement already satisfied: regex>=2021.8.3 in /Library/Frameworks/Python.framework/Versions/3.10/lib/python3.10/site-packages (from nltk) (2023.12.25)\n",
      "Requirement already satisfied: tqdm in /Library/Frameworks/Python.framework/Versions/3.10/lib/python3.10/site-packages (from nltk) (4.66.2)\n",
      "Requirement already satisfied: python-dateutil>=2.8.1 in /Library/Frameworks/Python.framework/Versions/3.10/lib/python3.10/site-packages (from pandas) (2.8.2)\n",
      "Requirement already satisfied: pytz>=2020.1 in /Library/Frameworks/Python.framework/Versions/3.10/lib/python3.10/site-packages (from pandas) (2022.4)\n",
      "Requirement already satisfied: numpy>=1.21.0 in /Library/Frameworks/Python.framework/Versions/3.10/lib/python3.10/site-packages (from pandas) (1.24.2)\n",
      "Requirement already satisfied: six>=1.5 in /Library/Frameworks/Python.framework/Versions/3.10/lib/python3.10/site-packages (from python-dateutil>=2.8.1->pandas) (1.16.0)\n",
      "\n",
      "\u001b[1m[\u001b[0m\u001b[34;49mnotice\u001b[0m\u001b[1;39;49m]\u001b[0m\u001b[39;49m A new release of pip is available: \u001b[0m\u001b[31;49m23.3.1\u001b[0m\u001b[39;49m -> \u001b[0m\u001b[32;49m24.0\u001b[0m\n",
      "\u001b[1m[\u001b[0m\u001b[34;49mnotice\u001b[0m\u001b[1;39;49m]\u001b[0m\u001b[39;49m To update, run: \u001b[0m\u001b[32;49m/Library/Frameworks/Python.framework/Versions/3.10/bin/python3 -m pip install --upgrade pip\u001b[0m\n",
      "Note: you may need to restart the kernel to use updated packages.\n"
     ]
    }
   ],
   "source": [
    "pip install nltk pandas\n",
    "import nltk\n",
    "nltk.download('vader_lexicon')\n",
    "# python -m nltk.downloader vader_lexicon - should run this command in terminal\n",
    "# python -m nltk.downloader all - run this command for all nltk moduels"
   ]
  },
  {
   "cell_type": "code",
   "execution_count": 12,
   "id": "0397c3f7",
   "metadata": {},
   "outputs": [
    {
     "name": "stdout",
     "output_type": "stream",
     "text": [
      "VADER Lexicon is successfully loaded!\n"
     ]
    }
   ],
   "source": [
    "import nltk\n",
    "from nltk.sentiment import SentimentIntensityAnalyzer\n",
    "\n",
    "try:\n",
    "    sia = SentimentIntensityAnalyzer()\n",
    "    print(\"VADER Lexicon is successfully loaded!\")\n",
    "except LookupError:\n",
    "    print(\"Failed to load VADER Lexicon. Please check the installation steps again.\")"
   ]
  },
  {
   "cell_type": "code",
   "execution_count": 13,
   "id": "58f8ffaa",
   "metadata": {},
   "outputs": [],
   "source": [
    "import pandas as pd\n",
    "from nltk.sentiment import SentimentIntensityAnalyzer\n",
    "\n",
    "file_path = 'reviews.csv' \n",
    "df = pd.read_csv(file_path)\n",
    "review_column_name = 'review'  \n",
    "sia = SentimentIntensityAnalyzer()\n",
    "\n",
    "def get_sentiment_rating(review):\n",
    "    score = sia.polarity_scores(review)['compound']\n",
    "    return 1 if score > 0 else 0\n",
    "\n",
    "df['rating'] = df[review_column_name].apply(get_sentiment_rating)\n",
    "new_file_path = 'my_movies_with_ratings.csv'  \n",
    "df.to_csv(new_file_path, index=False)"
   ]
  },
  {
   "cell_type": "code",
   "execution_count": 25,
   "id": "cd4df2d2",
   "metadata": {},
   "outputs": [
    {
     "name": "stderr",
     "output_type": "stream",
     "text": [
      "[nltk_data] Downloading package punkt to /Users/anees/nltk_data...\n",
      "[nltk_data]   Package punkt is already up-to-date!\n",
      "[nltk_data] Downloading package stopwords to /Users/anees/nltk_data...\n",
      "[nltk_data]   Package stopwords is already up-to-date!\n"
     ]
    },
    {
     "data": {
      "text/plain": [
       "True"
      ]
     },
     "execution_count": 25,
     "metadata": {},
     "output_type": "execute_result"
    }
   ],
   "source": [
    "import nltk\n",
    "nltk.download('punkt')  # For tokenization\n",
    "nltk.download('stopwords')  # For removing common words"
   ]
  },
  {
   "cell_type": "code",
   "execution_count": 26,
   "id": "83e2cc53",
   "metadata": {},
   "outputs": [],
   "source": [
    "import pandas as pd\n",
    "\n",
    "data = pd.read_csv(\"my_movies_with_ratings.csv\")\n",
    "docs = data[\"review\"]\n"
   ]
  },
  {
   "cell_type": "code",
   "execution_count": 33,
   "id": "fdab0de2",
   "metadata": {},
   "outputs": [
    {
     "name": "stdout",
     "output_type": "stream",
     "text": [
      "[('movie', 1901), ('film', 1846), ('one', 1258), ('action', 834), ('like', 801), ('star', 693), ('time', 677), ('good', 654), ('great', 645), ('wars', 625), ('first', 623), ('story', 570), ('even', 552), ('best', 551), ('characters', 547), ('also', 509), ('well', 502), ('really', 498), ('character', 491), ('films', 465)]\n"
     ]
    }
   ],
   "source": [
    "from nltk.tokenize import word_tokenize\n",
    "from nltk.corpus import stopwords\n",
    "from collections import Counter\n",
    "\n",
    "stop_words = set(stopwords.words('english'))\n",
    "\n",
    "word_freq = Counter()\n",
    "for doc in docs:\n",
    "    tokens = word_tokenize(doc.lower())  \n",
    "    tokens = [word for word in tokens if word.isalpha()]  \n",
    "    tokens = [word for word in tokens if word not in stop_words] \n",
    "    word_freq.update(tokens)\n",
    "\n",
    "most_common_words = word_freq.most_common(20)  \n",
    "print(most_common_words)\n"
   ]
  },
  {
   "cell_type": "code",
   "execution_count": null,
   "id": "299454bf",
   "metadata": {},
   "outputs": [],
   "source": []
  }
 ],
 "metadata": {
  "kernelspec": {
   "display_name": "Python 3 (ipykernel)",
   "language": "python",
   "name": "python3"
  },
  "language_info": {
   "codemirror_mode": {
    "name": "ipython",
    "version": 3
   },
   "file_extension": ".py",
   "mimetype": "text/x-python",
   "name": "python",
   "nbconvert_exporter": "python",
   "pygments_lexer": "ipython3",
   "version": "3.10.6"
  }
 },
 "nbformat": 4,
 "nbformat_minor": 5
}
